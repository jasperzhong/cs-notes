{
 "cells": [
  {
   "cell_type": "code",
   "execution_count": 1,
   "id": "3f212abc-75f4-4e48-8c16-290db7c8ae02",
   "metadata": {},
   "outputs": [
    {
     "name": "stderr",
     "output_type": "stream",
     "text": [
      "Using backend: pytorch\n"
     ]
    }
   ],
   "source": [
    "import dgl\n",
    "import numpy as np\n",
    "import torch"
   ]
  },
  {
   "cell_type": "code",
   "execution_count": 17,
   "id": "e523c641-04da-42f3-b966-d541fd7e2fe1",
   "metadata": {},
   "outputs": [],
   "source": [
    "g = dgl.graph(([0, 0, 0, 0, 0, 0], [0, 1, 2, 3, 4, 5])) # self-loop "
   ]
  },
  {
   "cell_type": "code",
   "execution_count": 18,
   "id": "f4a90172-2339-42cf-bbdc-11940ec339b6",
   "metadata": {},
   "outputs": [
    {
     "data": {
      "text/plain": [
       "Graph(num_nodes=6, num_edges=6,\n",
       "      ndata_schemes={}\n",
       "      edata_schemes={})"
      ]
     },
     "execution_count": 18,
     "metadata": {},
     "output_type": "execute_result"
    }
   ],
   "source": [
    "g"
   ]
  },
  {
   "cell_type": "code",
   "execution_count": 19,
   "id": "44ecf4e9-f854-46a5-8b46-776544ed521e",
   "metadata": {},
   "outputs": [],
   "source": [
    "g.ndata['x'] = torch.randn(6, 5) # because we have 6 nodes "
   ]
  },
  {
   "cell_type": "code",
   "execution_count": 20,
   "id": "80f7c046-58bf-4d94-ae1f-bcef976dae29",
   "metadata": {},
   "outputs": [
    {
     "data": {
      "text/plain": [
       "Graph(num_nodes=6, num_edges=6,\n",
       "      ndata_schemes={'x': Scheme(shape=(5,), dtype=torch.float32)}\n",
       "      edata_schemes={})"
      ]
     },
     "execution_count": 20,
     "metadata": {},
     "output_type": "execute_result"
    }
   ],
   "source": [
    "g"
   ]
  },
  {
   "cell_type": "code",
   "execution_count": 21,
   "id": "9b0f0c07-b09a-479d-8c24-a957f4f0bdd1",
   "metadata": {},
   "outputs": [],
   "source": [
    "g.edata['a'] = torch.randn(6, 4) # because we have 6 edges"
   ]
  },
  {
   "cell_type": "code",
   "execution_count": 22,
   "id": "b6d3f558-cf53-4a2c-bd76-4a6a401f7d56",
   "metadata": {},
   "outputs": [
    {
     "data": {
      "text/plain": [
       "Graph(num_nodes=6, num_edges=6,\n",
       "      ndata_schemes={'x': Scheme(shape=(5,), dtype=torch.float32)}\n",
       "      edata_schemes={'a': Scheme(shape=(4,), dtype=torch.float32)})"
      ]
     },
     "execution_count": 22,
     "metadata": {},
     "output_type": "execute_result"
    }
   ],
   "source": [
    "g"
   ]
  },
  {
   "cell_type": "code",
   "execution_count": 23,
   "id": "ed89a707-03c6-4bbc-8d97-e8f3d4332ffc",
   "metadata": {},
   "outputs": [
    {
     "name": "stdout",
     "output_type": "stream",
     "text": [
      "{'x': tensor([[-0.5026, -0.1615, -0.8999, -1.2727,  0.1102],\n",
      "        [ 0.4898, -0.8368,  0.6868, -0.3430, -0.6123],\n",
      "        [-0.3393,  0.1853,  0.4737,  0.1432, -0.7260],\n",
      "        [-0.7611, -1.6048, -0.3906, -2.1927,  1.5778],\n",
      "        [ 0.1105,  1.4033, -0.4250, -0.4220, -1.2792],\n",
      "        [-0.0335, -2.7273, -0.3748, -1.1827,  0.2078]])}\n",
      "{'a': tensor([[ 0.0380, -0.6844,  1.0206,  2.2784],\n",
      "        [ 0.5569,  0.0100,  0.9712,  0.2575],\n",
      "        [-0.2370, -0.3436,  1.1247,  0.8628],\n",
      "        [-1.2308, -0.3361, -0.5213,  0.3937],\n",
      "        [ 2.4430,  0.8937,  0.4567,  0.9990],\n",
      "        [-1.3077, -0.2647,  1.3599, -0.9514]])}\n"
     ]
    }
   ],
   "source": [
    "print(g.ndata)\n",
    "print(g.edata)"
   ]
  },
  {
   "cell_type": "code",
   "execution_count": 24,
   "id": "539085b0-d297-4887-b476-e011987abfa6",
   "metadata": {},
   "outputs": [
    {
     "name": "stdout",
     "output_type": "stream",
     "text": [
      "6\n"
     ]
    }
   ],
   "source": [
    "print(g.num_nodes())"
   ]
  },
  {
   "cell_type": "code",
   "execution_count": 25,
   "id": "1be54c3a-76fc-4838-96c1-94a04b1b1717",
   "metadata": {},
   "outputs": [
    {
     "name": "stdout",
     "output_type": "stream",
     "text": [
      "6\n"
     ]
    }
   ],
   "source": [
    "print(g.num_edges())"
   ]
  },
  {
   "cell_type": "code",
   "execution_count": 26,
   "id": "83411503-2195-4a23-908c-0f5ad25c2644",
   "metadata": {},
   "outputs": [
    {
     "name": "stdout",
     "output_type": "stream",
     "text": [
      "6\n"
     ]
    }
   ],
   "source": [
    "print(g.out_degrees(0))"
   ]
  },
  {
   "cell_type": "code",
   "execution_count": 27,
   "id": "3586de93-2293-4ce5-9d40-1fa287b72552",
   "metadata": {},
   "outputs": [],
   "source": [
    "sg1 = g.subgraph([0, 1, 3])"
   ]
  },
  {
   "cell_type": "code",
   "execution_count": 28,
   "id": "93b90125-c1cf-4a4b-9dad-6bea51e53c79",
   "metadata": {},
   "outputs": [
    {
     "data": {
      "text/plain": [
       "Graph(num_nodes=3, num_edges=3,\n",
       "      ndata_schemes={'x': Scheme(shape=(5,), dtype=torch.float32), '_ID': Scheme(shape=(), dtype=torch.int64)}\n",
       "      edata_schemes={'a': Scheme(shape=(4,), dtype=torch.float32), '_ID': Scheme(shape=(), dtype=torch.int64)})"
      ]
     },
     "execution_count": 28,
     "metadata": {},
     "output_type": "execute_result"
    }
   ],
   "source": [
    "sg1"
   ]
  },
  {
   "cell_type": "code",
   "execution_count": 29,
   "id": "cb653ad6-09cf-4872-ad06-fdb6958266ce",
   "metadata": {},
   "outputs": [
    {
     "name": "stdout",
     "output_type": "stream",
     "text": [
      "{'x': tensor([[-0.5026, -0.1615, -0.8999, -1.2727,  0.1102],\n",
      "        [ 0.4898, -0.8368,  0.6868, -0.3430, -0.6123],\n",
      "        [-0.7611, -1.6048, -0.3906, -2.1927,  1.5778]]), '_ID': tensor([0, 1, 3])}\n"
     ]
    }
   ],
   "source": [
    "print(sg1.ndata)"
   ]
  },
  {
   "cell_type": "code",
   "execution_count": 31,
   "id": "12ed7497-05a8-4695-8d57-8cddc629d8e8",
   "metadata": {},
   "outputs": [
    {
     "name": "stdout",
     "output_type": "stream",
     "text": [
      "{'a': tensor([[ 0.0380, -0.6844,  1.0206,  2.2784],\n",
      "        [ 0.5569,  0.0100,  0.9712,  0.2575],\n",
      "        [-1.2308, -0.3361, -0.5213,  0.3937]]), '_ID': tensor([0, 1, 3])}\n"
     ]
    }
   ],
   "source": [
    "print(sg1.edata)"
   ]
  },
  {
   "cell_type": "code",
   "execution_count": 34,
   "id": "837afb25-1684-432e-966e-04b332b34400",
   "metadata": {},
   "outputs": [
    {
     "name": "stdout",
     "output_type": "stream",
     "text": [
      "tensor([0, 1, 3])\n"
     ]
    }
   ],
   "source": [
    "print(sg1.ndata[dgl.NID])"
   ]
  },
  {
   "cell_type": "code",
   "execution_count": 35,
   "id": "c3ea9dcf-83d1-4c44-926a-11ce1de609ba",
   "metadata": {},
   "outputs": [
    {
     "name": "stdout",
     "output_type": "stream",
     "text": [
      "tensor([0, 1, 3])\n"
     ]
    }
   ],
   "source": [
    "print(sg1.ndata[dgl.EID])"
   ]
  },
  {
   "cell_type": "code",
   "execution_count": null,
   "id": "b0157136-94b4-47b0-973a-ae21f40fd082",
   "metadata": {},
   "outputs": [],
   "source": []
  }
 ],
 "metadata": {
  "kernelspec": {
   "display_name": "Python 3",
   "language": "python",
   "name": "python3"
  },
  "language_info": {
   "codemirror_mode": {
    "name": "ipython",
    "version": 3
   },
   "file_extension": ".py",
   "mimetype": "text/x-python",
   "name": "python",
   "nbconvert_exporter": "python",
   "pygments_lexer": "ipython3",
   "version": "3.6.13"
  }
 },
 "nbformat": 4,
 "nbformat_minor": 5
}
