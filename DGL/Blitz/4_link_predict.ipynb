{
 "cells": [
  {
   "cell_type": "markdown",
   "id": "04886869-0c8a-45d6-8438-2dd21f611b7b",
   "metadata": {},
   "source": [
    "## Link Prediction \n",
    "\n",
    "- Treat the edges in the graph as **positive examples**\n",
    "- Sample a number of non-existent edges (i.e., node pairs with no edges between them) as **negative examples**\n"
   ]
  },
  {
   "cell_type": "code",
   "execution_count": 2,
   "id": "c0f21452-a494-4a57-b3e4-d6c96549a5b5",
   "metadata": {},
   "outputs": [],
   "source": [
    "import dgl\n",
    "import torch\n",
    "import torch.nn as nn\n",
    "import torch.nn.functional as F\n",
    "import itertools\n",
    "import numpy as np\n",
    "import scipy.sparse as sp\n"
   ]
  },
  {
   "cell_type": "code",
   "execution_count": 1,
   "id": "147d1f8f-0eed-4f7c-ad35-38024f88ab50",
   "metadata": {},
   "outputs": [
    {
     "name": "stderr",
     "output_type": "stream",
     "text": [
      "Using backend: pytorch\n"
     ]
    },
    {
     "name": "stdout",
     "output_type": "stream",
     "text": [
      "  NumNodes: 2708\n",
      "  NumEdges: 10556\n",
      "  NumFeats: 1433\n",
      "  NumClasses: 7\n",
      "  NumTrainingSamples: 140\n",
      "  NumValidationSamples: 500\n",
      "  NumTestSamples: 1000\n",
      "Done loading data from cached files.\n"
     ]
    }
   ],
   "source": [
    "import dgl.data\n",
    "\n",
    "dataset = dgl.data.CoraGraphDataset()\n",
    "g = dataset[0]"
   ]
  },
  {
   "cell_type": "code",
   "execution_count": 3,
   "id": "5731256a-d569-4f94-9d39-644fd19da377",
   "metadata": {},
   "outputs": [],
   "source": [
    "u, v = g.edges()"
   ]
  },
  {
   "cell_type": "code",
   "execution_count": 15,
   "id": "931519c3-e358-45fe-8470-bd303d477ff8",
   "metadata": {},
   "outputs": [
    {
     "data": {
      "text/plain": [
       "10556"
      ]
     },
     "execution_count": 15,
     "metadata": {},
     "output_type": "execute_result"
    }
   ],
   "source": [
    "len(u)"
   ]
  },
  {
   "cell_type": "code",
   "execution_count": 4,
   "id": "d71c5159-92e7-43ac-9fad-98b1ec2e0866",
   "metadata": {},
   "outputs": [
    {
     "data": {
      "text/plain": [
       "tensor([   0,    0,    0,  ..., 2707, 2707, 2707])"
      ]
     },
     "execution_count": 4,
     "metadata": {},
     "output_type": "execute_result"
    }
   ],
   "source": [
    "u "
   ]
  },
  {
   "cell_type": "code",
   "execution_count": 5,
   "id": "c928f88e-a813-49b2-bb8a-bfa4812d6085",
   "metadata": {},
   "outputs": [
    {
     "data": {
      "text/plain": [
       "tensor([ 633, 1862, 2582,  ...,  598, 1473, 2706])"
      ]
     },
     "execution_count": 5,
     "metadata": {},
     "output_type": "execute_result"
    }
   ],
   "source": [
    "v"
   ]
  },
  {
   "cell_type": "code",
   "execution_count": 8,
   "id": "c7ae1996-35d1-459e-8d91-38f01d1f6cbd",
   "metadata": {},
   "outputs": [
    {
     "name": "stdout",
     "output_type": "stream",
     "text": [
      "[1156 2720 3437 ... 1774 1393 9947]\n"
     ]
    }
   ],
   "source": [
    "eids = np.arange(g.number_of_edges())\n",
    "eids = np.random.permutation(eids)\n",
    "print(eids)"
   ]
  },
  {
   "cell_type": "code",
   "execution_count": 9,
   "id": "aaf1cc73-a563-4b2d-ada6-9f136b32d8df",
   "metadata": {},
   "outputs": [],
   "source": [
    "test_size = int(len(eids) * 0.1)\n",
    "train_size = g.number_of_edges() - test_size"
   ]
  },
  {
   "cell_type": "code",
   "execution_count": 10,
   "id": "1c8708eb-b825-4d61-8855-9fa312947910",
   "metadata": {},
   "outputs": [],
   "source": [
    "test_pos_u, test_pos_v = u[eids[:test_size]], v[eids[:test_size]]\n",
    "train_pos_u, train_pos_v = u[eids[test_size:]], v[eids[test_size:]]"
   ]
  },
  {
   "cell_type": "code",
   "execution_count": 11,
   "id": "2c5bb4e4-e1f2-4ee7-8d6b-714c09a2260d",
   "metadata": {},
   "outputs": [],
   "source": [
    "adj = sp.coo_matrix((np.ones(len(u)), (u.numpy(), v.numpy()))) # this is a sparse adjacency matrix"
   ]
  },
  {
   "cell_type": "code",
   "execution_count": 14,
   "id": "a5225ee1-5b06-4040-8a04-af8e3244b72d",
   "metadata": {},
   "outputs": [
    {
     "data": {
      "text/plain": [
       "(2708, 2708)"
      ]
     },
     "execution_count": 14,
     "metadata": {},
     "output_type": "execute_result"
    }
   ],
   "source": [
    "adj.todense().shape"
   ]
  },
  {
   "cell_type": "code",
   "execution_count": 16,
   "id": "e1d73324-1858-4e21-b0f3-fb470565baa6",
   "metadata": {},
   "outputs": [
    {
     "data": {
      "text/plain": [
       "array([[1., 0., 0., ..., 0., 0., 0.],\n",
       "       [0., 1., 0., ..., 0., 0., 0.],\n",
       "       [0., 0., 1., ..., 0., 0., 0.],\n",
       "       ...,\n",
       "       [0., 0., 0., ..., 1., 0., 0.],\n",
       "       [0., 0., 0., ..., 0., 1., 0.],\n",
       "       [0., 0., 0., ..., 0., 0., 1.]])"
      ]
     },
     "execution_count": 16,
     "metadata": {},
     "output_type": "execute_result"
    }
   ],
   "source": [
    "np.eye(g.number_of_nodes())"
   ]
  },
  {
   "cell_type": "code",
   "execution_count": 17,
   "id": "ac46ad60-f34f-49a8-a78b-0eaade5b7eea",
   "metadata": {},
   "outputs": [
    {
     "name": "stdout",
     "output_type": "stream",
     "text": [
      "[[0. 1. 1. ... 1. 1. 1.]\n",
      " [1. 0. 0. ... 1. 1. 1.]\n",
      " [1. 0. 0. ... 1. 1. 1.]\n",
      " ...\n",
      " [1. 1. 1. ... 0. 1. 1.]\n",
      " [1. 1. 1. ... 1. 0. 0.]\n",
      " [1. 1. 1. ... 1. 0. 0.]]\n"
     ]
    }
   ],
   "source": [
    "adj_neg = 1 - adj.todense() - np.eye(g.number_of_nodes())\n",
    "print(adj_neg)"
   ]
  },
  {
   "cell_type": "code",
   "execution_count": 18,
   "id": "e7c9aaf3-ba5e-459d-b5d7-1fd79909345e",
   "metadata": {},
   "outputs": [],
   "source": [
    "neg_u, neg_v = np.where(adj_neg != 0)"
   ]
  },
  {
   "cell_type": "code",
   "execution_count": 19,
   "id": "a165cf15-63a9-46d1-a494-7e8729fe1f9d",
   "metadata": {},
   "outputs": [
    {
     "name": "stdout",
     "output_type": "stream",
     "text": [
      "[   0    0    0 ... 2707 2707 2707]\n",
      "[   1    2    3 ... 2703 2704 2705]\n"
     ]
    }
   ],
   "source": [
    "print(neg_u)\n",
    "print(neg_v)"
   ]
  },
  {
   "cell_type": "code",
   "execution_count": 22,
   "id": "8806f472-883c-489a-b935-33dd4663fc49",
   "metadata": {},
   "outputs": [
    {
     "data": {
      "text/plain": [
       "7320000"
      ]
     },
     "execution_count": 22,
     "metadata": {},
     "output_type": "execute_result"
    }
   ],
   "source": [
    "len(neg_u)"
   ]
  },
  {
   "cell_type": "code",
   "execution_count": 20,
   "id": "b21c74be-059b-448a-83b6-e5fc5e59807e",
   "metadata": {},
   "outputs": [],
   "source": [
    "\n",
    "neg_eids = np.random.choice(len(neg_u), g.number_of_edges())\n",
    "test_neg_u, test_neg_v = neg_u[neg_eids[:test_size]], neg_v[neg_eids[:test_size]]\n",
    "train_neg_u, train_neg_v = neg_u[neg_eids[test_size:]], neg_v[neg_eids[test_size:]]"
   ]
  },
  {
   "cell_type": "code",
   "execution_count": 21,
   "id": "71dffdda-8700-4ed8-b4aa-f96f455786b8",
   "metadata": {},
   "outputs": [
    {
     "name": "stdout",
     "output_type": "stream",
     "text": [
      "9501 9501\n",
      "1055 1055\n"
     ]
    }
   ],
   "source": [
    "print(len(train_pos_u), len(train_neg_u))\n",
    "print(len(test_pos_u), len(test_neg_u))"
   ]
  },
  {
   "cell_type": "code",
   "execution_count": 23,
   "id": "c409dda8-5f3b-4719-8f33-a75c9074da69",
   "metadata": {},
   "outputs": [],
   "source": [
    "train_g = dgl.remove_edges(g, eids[:test_size])"
   ]
  },
  {
   "cell_type": "code",
   "execution_count": 24,
   "id": "e447d88f-d9d4-4aca-bf34-50533e601042",
   "metadata": {},
   "outputs": [],
   "source": [
    "from dgl.nn import SAGEConv \n",
    "\n",
    "class GraphSage(nn.Module):\n",
    "    def __init__(self, in_feats, h_feats):\n",
    "        super(GraphSage, self).__init__()\n",
    "        self.conv1 = SAGEConv(in_feats, h_feats, 'mean')\n",
    "        self.conv2 = SAGEConv(h_feats, h_feats, 'mean')\n",
    "    \n",
    "    def forward(self, g, in_feat):\n",
    "        h = self.conv1(g, in_feat)\n",
    "        h = F.relu(h)\n",
    "        h = self.conv2(g, h)\n",
    "        return h"
   ]
  },
  {
   "cell_type": "code",
   "execution_count": 25,
   "id": "1dc1584e-8542-4aa8-882b-44f3cf4b7243",
   "metadata": {},
   "outputs": [],
   "source": [
    "train_pos_g = dgl.graph((train_pos_u, train_pos_v), num_nodes=g.number_of_nodes())\n",
    "train_neg_g = dgl.graph((train_neg_u, train_neg_v), num_nodes=g.number_of_nodes())\n",
    "\n",
    "test_pos_g = dgl.graph((test_pos_u, test_pos_v), num_nodes=g.number_of_nodes())\n",
    "test_neg_g = dgl.graph((test_neg_u, test_neg_v), num_nodes=g.number_of_nodes())"
   ]
  },
  {
   "cell_type": "code",
   "execution_count": 44,
   "id": "be9a4a3c-5f15-4b3b-9a6f-1acee4b2fe71",
   "metadata": {},
   "outputs": [],
   "source": [
    "import dgl.function as fn\n",
    "\n",
    "class DotPredictor(nn.Module):\n",
    "    def forward(self, g, h):\n",
    "        with g.local_scope():\n",
    "            g.ndata['h'] = h\n",
    "            # print(h.shape)\n",
    "            g.apply_edges(fn.u_dot_v('h', 'h', 'score'))\n",
    "            # g.edata['score'] shape is [9501, 1]\n",
    "            # print(g.edata['score'].shape)\n",
    "            return g.edata['score'][:, 0]"
   ]
  },
  {
   "cell_type": "code",
   "execution_count": 45,
   "id": "a709631d-d018-4692-9011-93fb3ec53d4f",
   "metadata": {},
   "outputs": [],
   "source": [
    "model = GraphSage(train_g.ndata['feat'].shape[1], 16)"
   ]
  },
  {
   "cell_type": "code",
   "execution_count": 46,
   "id": "88c19c00-1936-4625-b197-b216ef71df89",
   "metadata": {},
   "outputs": [],
   "source": [
    "pred = DotPredictor()"
   ]
  },
  {
   "cell_type": "code",
   "execution_count": 47,
   "id": "23ac8a96-2e80-4940-b06f-7e7e2e03c80c",
   "metadata": {},
   "outputs": [],
   "source": [
    "def compute_loss(pos_score, neg_score):\n",
    "    scores = torch.cat([pos_score, neg_score])\n",
    "    labels = torch.cat([torch.ones(pos_score.shape[0]), torch.zeros(neg_score.shape[0])])\n",
    "    return F.binary_cross_entropy_with_logits(scores, labels)\n",
    "\n",
    "def compute_auc(pos_score, neg_score):\n",
    "    scores = torch.cat([pos_score, neg_score]).numpy()\n",
    "    labels = torch.cat(\n",
    "        [torch.ones(pos_score.shape[0]), torch.zeros(neg_score.shape[0])]).numpy()\n",
    "    return roc_auc_score(labels, scores)\n"
   ]
  },
  {
   "cell_type": "code",
   "execution_count": 48,
   "id": "08e35370-da33-42fc-9c3f-785cfd325232",
   "metadata": {},
   "outputs": [],
   "source": [
    "optimizer = torch.optim.Adam(itertools.chain(model.parameters(), pred.parameters()), lr=0.01)"
   ]
  },
  {
   "cell_type": "code",
   "execution_count": 49,
   "id": "c69ee9b4-b147-4ef7-8e7a-e3b8068855cf",
   "metadata": {},
   "outputs": [
    {
     "name": "stdout",
     "output_type": "stream",
     "text": [
      "In epoch 0, loss: 0.6929579973220825\n",
      "In epoch 5, loss: 0.66300368309021\n",
      "In epoch 10, loss: 0.5759940147399902\n",
      "In epoch 15, loss: 0.5208228230476379\n",
      "In epoch 20, loss: 0.49238890409469604\n",
      "In epoch 25, loss: 0.4600619673728943\n",
      "In epoch 30, loss: 0.4374469518661499\n",
      "In epoch 35, loss: 0.4156125783920288\n",
      "In epoch 40, loss: 0.39391374588012695\n",
      "In epoch 45, loss: 0.3731802701950073\n",
      "In epoch 50, loss: 0.35113808512687683\n",
      "In epoch 55, loss: 0.32943618297576904\n",
      "In epoch 60, loss: 0.30703336000442505\n",
      "In epoch 65, loss: 0.28436124324798584\n",
      "In epoch 70, loss: 0.2617570757865906\n",
      "In epoch 75, loss: 0.23912028968334198\n",
      "In epoch 80, loss: 0.2165376991033554\n",
      "In epoch 85, loss: 0.19412106275558472\n",
      "In epoch 90, loss: 0.17237377166748047\n",
      "In epoch 95, loss: 0.15139953792095184\n"
     ]
    }
   ],
   "source": [
    "all_logits = []\n",
    "for e in range(100):\n",
    "    # forward\n",
    "    h = model(train_g, train_g.ndata['feat'])\n",
    "    pos_score = pred(train_pos_g, h)\n",
    "    neg_score = pred(train_neg_g, h)\n",
    "    loss = compute_loss(pos_score, neg_score)\n",
    "\n",
    "    # backward\n",
    "    optimizer.zero_grad()\n",
    "    loss.backward()\n",
    "    optimizer.step()\n",
    "\n",
    "    if e % 5 == 0:\n",
    "        print('In epoch {}, loss: {}'.format(e, loss))"
   ]
  },
  {
   "cell_type": "code",
   "execution_count": 51,
   "id": "b2a9992d-58a5-4336-9b62-47b5b90f224c",
   "metadata": {},
   "outputs": [
    {
     "name": "stdout",
     "output_type": "stream",
     "text": [
      "AUC 0.8464311223916802\n"
     ]
    }
   ],
   "source": [
    "from sklearn.metrics import roc_auc_score\n",
    "with torch.no_grad():\n",
    "    pos_score = pred(test_pos_g, h)\n",
    "    neg_score = pred(test_neg_g, h)\n",
    "    print('AUC', compute_auc(pos_score, neg_score))\n"
   ]
  },
  {
   "cell_type": "code",
   "execution_count": null,
   "id": "d4b8807c-c92f-4950-9e87-f74ba915f6b2",
   "metadata": {},
   "outputs": [],
   "source": []
  }
 ],
 "metadata": {
  "kernelspec": {
   "display_name": "Python 3",
   "language": "python",
   "name": "python3"
  },
  "language_info": {
   "codemirror_mode": {
    "name": "ipython",
    "version": 3
   },
   "file_extension": ".py",
   "mimetype": "text/x-python",
   "name": "python",
   "nbconvert_exporter": "python",
   "pygments_lexer": "ipython3",
   "version": "3.6.13"
  }
 },
 "nbformat": 4,
 "nbformat_minor": 5
}
