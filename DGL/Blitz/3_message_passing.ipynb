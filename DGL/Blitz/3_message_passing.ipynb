{
 "cells": [
  {
   "cell_type": "markdown",
   "id": "25ddff9c-94b1-4faf-9f1c-b8a0d82941dd",
   "metadata": {
    "tags": []
   },
   "source": [
    "##  Message Passing Paradigm\n",
    "\n",
    "### Definition \n",
    "\n",
    "Let $x_v\\in \\mathbb{R}^{d_1}$ be the feature for node $v$, and $w_e\\in \\mathbb{R}^{d_2}$  be the feature for edge $(u, v)$. The **message passing paradigm** defines the following node-wise and edge-wise computation at step $t+1$:\n",
    "\n",
    "$$ \\text{Edge-wise: } m_e^{(t+1)} = \\phi \\left(x_v^{(t)}, x_u^{(t)}, w_e^{(t)} \\right), (u, v, e) \\in \\mathcal{E} .$$\n",
    "\n",
    "$$\\text{Node-wise: } x_v^{(t+1)} = \\psi\\left(x_v^{(t)}, \\rho\\left(\\{ m_e^{(t+1}): (u, v, e)\\in \\mathcal{E}\\}\\right) \\right) .$$\n",
    "\n",
    "where \n",
    "- $\\phi$ is a **message function** defined on each edge to generate a message by combining the edge feature with the features of its incident nodes (i.e.,  source nodes $u$),\n",
    "- $\\psi$ is an **update function** deinfed on each node to update the node feature by aggregating its incoming messages using the **reduce function** $\\rho$. \n",
    "\n",
    "### DGL's Message Passing APIs\n",
    "\n",
    "`update_all()` is the API for message passing and aggregation. \n",
    "- `message_func`: how to collect features from source nodes. The input is a single argument `edges`. It has three members `src`, `dst` and `data` to access features of source nodes, destination nodes, and edges, respectively. \n",
    "- `reduce_func`: how to aggregate. It takes a single argument `nodes`. It has member `mailbox` to access the messages received for the nodes in the batch. Some of the most common reduce operations include `sum`, `max`, `min`, etc. \n",
    "\n",
    "##  GraphSAGE\n",
    "\n",
    "$$h^k_{\\mathcal{N}(v)} \\leftarrow \\text{Average}\\{h^{k-1}_u, \\forall u\\in \\mathcal{N}(v)\\}$$\n",
    "\n",
    "$$h^k_v \\leftarrow \\text{ReLU}\\left(W^k \\cdot \\text{CONCAT}\\left(h^{k-1}_v, h^k_{\\mathcal{N}(v)}\\right)\\right)$$\n",
    "\n"
   ]
  },
  {
   "cell_type": "code",
   "execution_count": 1,
   "id": "df00d29a-02d1-4431-9d29-ccbfc2c70dae",
   "metadata": {},
   "outputs": [
    {
     "name": "stderr",
     "output_type": "stream",
     "text": [
      "Using backend: pytorch\n"
     ]
    }
   ],
   "source": [
    "import dgl\n",
    "import torch\n",
    "import torch.nn as nn\n",
    "import torch.nn.functional as F"
   ]
  },
  {
   "cell_type": "code",
   "execution_count": 2,
   "id": "f2309325-b4d1-487d-932f-acfb3183d30e",
   "metadata": {},
   "outputs": [],
   "source": [
    "import dgl.function as fn"
   ]
  },
  {
   "cell_type": "code",
   "execution_count": 22,
   "id": "8ca5292d-7bea-4b86-8497-fb6eca744a13",
   "metadata": {},
   "outputs": [],
   "source": [
    "class GraphSage(nn.Module):\n",
    "    def __init__(self, in_feat, out_feat):\n",
    "        super(GraphSage, self).__init__()\n",
    "        self.linear = nn.Linear(in_feat * 2, out_feat)\n",
    "    \n",
    "    def forward(self, g, h):\n",
    "        # print(h.shape)\n",
    "        with g.local_scope():\n",
    "            g.ndata['h'] = h\n",
    "            g.update_all(message_func=fn.copy_u('h', 'm'), reduce_func=fn.mean('m', 'h_N'))\n",
    "            h_N = g.ndata['h_N']\n",
    "            # print(h_N.shape)\n",
    "            h_total = torch.cat([h, h_N], dim=1)\n",
    "            # print(h_total.shape)\n",
    "            return self.linear(h_total)"
   ]
  },
  {
   "cell_type": "code",
   "execution_count": 5,
   "id": "fcea773b-539e-48dc-baf3-bbe7c004d97a",
   "metadata": {},
   "outputs": [],
   "source": [
    "import dgl.data"
   ]
  },
  {
   "cell_type": "code",
   "execution_count": 6,
   "id": "17258cc8-81c3-4dbe-98ca-cbbbaff6f0ca",
   "metadata": {},
   "outputs": [
    {
     "name": "stdout",
     "output_type": "stream",
     "text": [
      "  NumNodes: 2708\n",
      "  NumEdges: 10556\n",
      "  NumFeats: 1433\n",
      "  NumClasses: 7\n",
      "  NumTrainingSamples: 140\n",
      "  NumValidationSamples: 500\n",
      "  NumTestSamples: 1000\n",
      "Done loading data from cached files.\n"
     ]
    }
   ],
   "source": [
    "dataset = dgl.data.CoraGraphDataset()\n",
    "g = dataset[0]"
   ]
  },
  {
   "cell_type": "code",
   "execution_count": 7,
   "id": "a4df5a0d-933e-48eb-9914-4c6b43fd30b2",
   "metadata": {},
   "outputs": [],
   "source": [
    "features = g.ndata['feat']\n",
    "labels = g.ndata['label']\n",
    "train_mask = g.ndata['train_mask']\n",
    "val_mask = g.ndata['val_mask']\n",
    "test_mask = g.ndata['test_mask']"
   ]
  },
  {
   "cell_type": "code",
   "execution_count": 12,
   "id": "96412140-3dde-4358-969f-e3bf0f3d13bd",
   "metadata": {},
   "outputs": [
    {
     "name": "stdout",
     "output_type": "stream",
     "text": [
      "torch.Size([2708, 1433])\n",
      "torch.Size([2708])\n"
     ]
    }
   ],
   "source": [
    "print(features.shape)\n",
    "print(labels.shape)"
   ]
  },
  {
   "cell_type": "code",
   "execution_count": 25,
   "id": "2ea86e24-dba8-4bef-8d77-09b35ec92363",
   "metadata": {},
   "outputs": [],
   "source": [
    "model = GraphSage(features.shape[1], 16)"
   ]
  },
  {
   "cell_type": "code",
   "execution_count": 26,
   "id": "dde8d3fd-058f-40bb-82d4-ea053a4d29f8",
   "metadata": {},
   "outputs": [],
   "source": [
    "y = model(g, features)"
   ]
  },
  {
   "cell_type": "code",
   "execution_count": 27,
   "id": "c08f6043-932c-4967-a3eb-3f5014670020",
   "metadata": {},
   "outputs": [
    {
     "data": {
      "text/plain": [
       "torch.Size([2708, 16])"
      ]
     },
     "execution_count": 27,
     "metadata": {},
     "output_type": "execute_result"
    }
   ],
   "source": [
    "y.shape"
   ]
  },
  {
   "cell_type": "code",
   "execution_count": 30,
   "id": "509fc3af-9101-41c8-824c-4ea7d4067b30",
   "metadata": {},
   "outputs": [],
   "source": [
    "class Model(nn.Module):\n",
    "    def __init__(self, in_feats, h_feats, num_classes):\n",
    "        super(Model, self).__init__()\n",
    "        self.conv1 = GraphSage(in_feats, h_feats)\n",
    "        self.conv2 = GraphSage(h_feats, num_classes)\n",
    "\n",
    "    def forward(self, g, in_feat):\n",
    "        h = self.conv1(g, in_feat)\n",
    "        h = F.relu(h)\n",
    "        h = self.conv2(g, h)\n",
    "        return h"
   ]
  },
  {
   "cell_type": "code",
   "execution_count": 33,
   "id": "f3ccab9b-08c3-4068-9178-a864e048083e",
   "metadata": {},
   "outputs": [
    {
     "data": {
      "text/plain": [
       "7"
      ]
     },
     "execution_count": 33,
     "metadata": {},
     "output_type": "execute_result"
    }
   ],
   "source": [
    "dataset.num_classes"
   ]
  },
  {
   "cell_type": "code",
   "execution_count": 31,
   "id": "cc6b64e3-5010-4159-892f-972bb65a3900",
   "metadata": {},
   "outputs": [],
   "source": [
    "model = Model(g.ndata['feat'].shape[1], 16, dataset.num_classes)"
   ]
  },
  {
   "cell_type": "code",
   "execution_count": 34,
   "id": "928dd126-33f2-4dda-bd36-faabcfea8a2c",
   "metadata": {},
   "outputs": [],
   "source": [
    "optimizer = torch.optim.Adam(model.parameters(), lr=0.01)"
   ]
  },
  {
   "cell_type": "code",
   "execution_count": 37,
   "id": "11658a4c-8f5a-493c-84f5-5b501df4f643",
   "metadata": {},
   "outputs": [
    {
     "name": "stdout",
     "output_type": "stream",
     "text": [
      "In epoch 0, loss: 1.951, val acc: 0.116 (best 0.116), test acc: 0.120 (best 0.120)\n",
      "In epoch 5, loss: 1.897, val acc: 0.126 (best 0.126), test acc: 0.138 (best 0.138)\n",
      "In epoch 10, loss: 1.784, val acc: 0.338 (best 0.338), test acc: 0.344 (best 0.344)\n",
      "In epoch 15, loss: 1.607, val acc: 0.414 (best 0.414), test acc: 0.422 (best 0.422)\n",
      "In epoch 20, loss: 1.367, val acc: 0.484 (best 0.484), test acc: 0.499 (best 0.499)\n",
      "In epoch 25, loss: 1.084, val acc: 0.548 (best 0.548), test acc: 0.549 (best 0.549)\n",
      "In epoch 30, loss: 0.793, val acc: 0.608 (best 0.608), test acc: 0.595 (best 0.595)\n",
      "In epoch 35, loss: 0.538, val acc: 0.682 (best 0.682), test acc: 0.651 (best 0.651)\n",
      "In epoch 40, loss: 0.344, val acc: 0.712 (best 0.712), test acc: 0.712 (best 0.712)\n",
      "In epoch 45, loss: 0.214, val acc: 0.728 (best 0.728), test acc: 0.743 (best 0.743)\n",
      "In epoch 50, loss: 0.134, val acc: 0.730 (best 0.730), test acc: 0.754 (best 0.754)\n",
      "In epoch 55, loss: 0.087, val acc: 0.732 (best 0.732), test acc: 0.752 (best 0.754)\n",
      "In epoch 60, loss: 0.059, val acc: 0.730 (best 0.732), test acc: 0.753 (best 0.754)\n",
      "In epoch 65, loss: 0.042, val acc: 0.730 (best 0.732), test acc: 0.752 (best 0.754)\n",
      "In epoch 70, loss: 0.032, val acc: 0.736 (best 0.736), test acc: 0.750 (best 0.750)\n",
      "In epoch 75, loss: 0.025, val acc: 0.734 (best 0.736), test acc: 0.749 (best 0.750)\n",
      "In epoch 80, loss: 0.021, val acc: 0.734 (best 0.736), test acc: 0.749 (best 0.750)\n",
      "In epoch 85, loss: 0.017, val acc: 0.734 (best 0.736), test acc: 0.749 (best 0.750)\n",
      "In epoch 90, loss: 0.015, val acc: 0.734 (best 0.736), test acc: 0.748 (best 0.750)\n",
      "In epoch 95, loss: 0.013, val acc: 0.736 (best 0.736), test acc: 0.748 (best 0.750)\n",
      "In epoch 100, loss: 0.012, val acc: 0.736 (best 0.736), test acc: 0.749 (best 0.750)\n",
      "In epoch 105, loss: 0.011, val acc: 0.734 (best 0.736), test acc: 0.747 (best 0.750)\n",
      "In epoch 110, loss: 0.010, val acc: 0.734 (best 0.736), test acc: 0.748 (best 0.750)\n",
      "In epoch 115, loss: 0.009, val acc: 0.734 (best 0.736), test acc: 0.748 (best 0.750)\n",
      "In epoch 120, loss: 0.008, val acc: 0.734 (best 0.736), test acc: 0.748 (best 0.750)\n",
      "In epoch 125, loss: 0.008, val acc: 0.732 (best 0.736), test acc: 0.749 (best 0.750)\n",
      "In epoch 130, loss: 0.007, val acc: 0.730 (best 0.736), test acc: 0.749 (best 0.750)\n",
      "In epoch 135, loss: 0.007, val acc: 0.730 (best 0.736), test acc: 0.748 (best 0.750)\n",
      "In epoch 140, loss: 0.006, val acc: 0.730 (best 0.736), test acc: 0.748 (best 0.750)\n",
      "In epoch 145, loss: 0.006, val acc: 0.728 (best 0.736), test acc: 0.747 (best 0.750)\n",
      "In epoch 150, loss: 0.006, val acc: 0.728 (best 0.736), test acc: 0.747 (best 0.750)\n",
      "In epoch 155, loss: 0.005, val acc: 0.728 (best 0.736), test acc: 0.747 (best 0.750)\n",
      "In epoch 160, loss: 0.005, val acc: 0.728 (best 0.736), test acc: 0.747 (best 0.750)\n",
      "In epoch 165, loss: 0.005, val acc: 0.728 (best 0.736), test acc: 0.747 (best 0.750)\n",
      "In epoch 170, loss: 0.005, val acc: 0.728 (best 0.736), test acc: 0.747 (best 0.750)\n",
      "In epoch 175, loss: 0.004, val acc: 0.728 (best 0.736), test acc: 0.748 (best 0.750)\n",
      "In epoch 180, loss: 0.004, val acc: 0.726 (best 0.736), test acc: 0.747 (best 0.750)\n",
      "In epoch 185, loss: 0.004, val acc: 0.726 (best 0.736), test acc: 0.747 (best 0.750)\n",
      "In epoch 190, loss: 0.004, val acc: 0.726 (best 0.736), test acc: 0.747 (best 0.750)\n",
      "In epoch 195, loss: 0.004, val acc: 0.728 (best 0.736), test acc: 0.747 (best 0.750)\n"
     ]
    }
   ],
   "source": [
    "best_val_acc = 0\n",
    "best_test_acc = 0\n",
    "\n",
    "for e in range(200):\n",
    "    logits = model(g, features)\n",
    "    pred = logits.argmax(1)\n",
    "    loss = F.cross_entropy(logits[train_mask], labels[train_mask])\n",
    "    \n",
    "    # Compute accuracy on training/validation/test\n",
    "    train_acc = (pred[train_mask] == labels[train_mask]).float().mean()\n",
    "    val_acc = (pred[val_mask] == labels[val_mask]).float().mean()\n",
    "    test_acc = (pred[test_mask] == labels[test_mask]).float().mean()\n",
    "\n",
    "    # Save the best validation accuracy and the corresponding test accuracy.\n",
    "    if best_val_acc < val_acc:\n",
    "        best_val_acc = val_acc\n",
    "        best_test_acc = test_acc\n",
    "\n",
    "    # Backward\n",
    "    optimizer.zero_grad()\n",
    "    loss.backward()\n",
    "    optimizer.step()\n",
    "\n",
    "    if e % 5 == 0:\n",
    "        print('In epoch {}, loss: {:.3f}, val acc: {:.3f} (best {:.3f}), test acc: {:.3f} (best {:.3f})'.format(\n",
    "            e, loss, val_acc, best_val_acc, test_acc, best_test_acc))\n",
    "    "
   ]
  },
  {
   "cell_type": "code",
   "execution_count": null,
   "id": "0a1d2ba3-19df-4f90-b805-9018087ddb90",
   "metadata": {},
   "outputs": [],
   "source": []
  }
 ],
 "metadata": {
  "kernelspec": {
   "display_name": "Python 3",
   "language": "python",
   "name": "python3"
  },
  "language_info": {
   "codemirror_mode": {
    "name": "ipython",
    "version": 3
   },
   "file_extension": ".py",
   "mimetype": "text/x-python",
   "name": "python",
   "nbconvert_exporter": "python",
   "pygments_lexer": "ipython3",
   "version": "3.6.13"
  }
 },
 "nbformat": 4,
 "nbformat_minor": 5
}
