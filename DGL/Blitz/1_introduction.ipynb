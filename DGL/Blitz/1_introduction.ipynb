{
 "cells": [
  {
   "cell_type": "code",
   "execution_count": 1,
   "id": "3440c567-2427-4b88-8714-7603418bcaa5",
   "metadata": {},
   "outputs": [
    {
     "name": "stderr",
     "output_type": "stream",
     "text": [
      "DGL backend not selected or invalid.  Assuming PyTorch for now.\n"
     ]
    },
    {
     "name": "stdout",
     "output_type": "stream",
     "text": [
      "Setting the default backend to \"pytorch\". You can change it in the ~/.dgl/config.json file or export the DGLBACKEND environment variable.  Valid options are: pytorch, mxnet, tensorflow (all lowercase)\n"
     ]
    },
    {
     "name": "stderr",
     "output_type": "stream",
     "text": [
      "Using backend: pytorch\n"
     ]
    }
   ],
   "source": [
    "import dgl.data"
   ]
  },
  {
   "cell_type": "markdown",
   "id": "28daa183-485d-478e-909d-e5b5cb340c83",
   "metadata": {},
   "source": [
    "## CoRA Dataset Description \n",
    "\n",
    "The Cora dataset consists of 2708 scientific publications classified into one of seven classes. The citation network consists of 5429 links. Each publication in the dataset is described by a 0/1-valued word vector indicating the absence/presence of the corresponding word from the dictionary. The dictionary consists of 1433 unique words.\n",
    "\n",
    "source: https://relational.fit.cvut.cz/dataset/CORA"
   ]
  },
  {
   "cell_type": "code",
   "execution_count": 5,
   "id": "e3dd5e80-a261-444c-accb-e1eaa22c402f",
   "metadata": {},
   "outputs": [
    {
     "name": "stdout",
     "output_type": "stream",
     "text": [
      "  NumNodes: 2708\n",
      "  NumEdges: 10556\n",
      "  NumFeats: 1433\n",
      "  NumClasses: 7\n",
      "  NumTrainingSamples: 140\n",
      "  NumValidationSamples: 500\n",
      "  NumTestSamples: 1000\n",
      "Done loading data from cached files.\n"
     ]
    }
   ],
   "source": [
    "dataset = dgl.data.CoraGraphDataset()"
   ]
  },
  {
   "cell_type": "code",
   "execution_count": 7,
   "id": "bcad9c74-e6d7-43eb-8368-99232918ae0d",
   "metadata": {},
   "outputs": [
    {
     "data": {
      "text/plain": [
       "['__class__',\n",
       " '__delattr__',\n",
       " '__dict__',\n",
       " '__dir__',\n",
       " '__doc__',\n",
       " '__eq__',\n",
       " '__format__',\n",
       " '__ge__',\n",
       " '__getattribute__',\n",
       " '__getitem__',\n",
       " '__gt__',\n",
       " '__hash__',\n",
       " '__init__',\n",
       " '__init_subclass__',\n",
       " '__le__',\n",
       " '__len__',\n",
       " '__lt__',\n",
       " '__module__',\n",
       " '__ne__',\n",
       " '__new__',\n",
       " '__reduce__',\n",
       " '__reduce_ex__',\n",
       " '__repr__',\n",
       " '__setattr__',\n",
       " '__sizeof__',\n",
       " '__str__',\n",
       " '__subclasshook__',\n",
       " '__weakref__',\n",
       " '_download',\n",
       " '_force_reload',\n",
       " '_g',\n",
       " '_get_hash',\n",
       " '_graph',\n",
       " '_hash',\n",
       " '_hash_key',\n",
       " '_load',\n",
       " '_name',\n",
       " '_num_classes',\n",
       " '_raw_dir',\n",
       " '_reverse_edge',\n",
       " '_save_dir',\n",
       " '_url',\n",
       " '_urls',\n",
       " '_verbose',\n",
       " 'download',\n",
       " 'features',\n",
       " 'graph',\n",
       " 'has_cache',\n",
       " 'hash',\n",
       " 'labels',\n",
       " 'load',\n",
       " 'name',\n",
       " 'num_classes',\n",
       " 'num_labels',\n",
       " 'process',\n",
       " 'raw_dir',\n",
       " 'raw_path',\n",
       " 'reverse_edge',\n",
       " 'save',\n",
       " 'save_dir',\n",
       " 'save_name',\n",
       " 'save_path',\n",
       " 'test_mask',\n",
       " 'train_mask',\n",
       " 'url',\n",
       " 'val_mask',\n",
       " 'verbose']"
      ]
     },
     "execution_count": 7,
     "metadata": {},
     "output_type": "execute_result"
    }
   ],
   "source": [
    "dir(dataset)"
   ]
  },
  {
   "cell_type": "code",
   "execution_count": 8,
   "id": "9831f5eb-1e63-4a16-9bc4-d7cc5c884e88",
   "metadata": {},
   "outputs": [
    {
     "name": "stderr",
     "output_type": "stream",
     "text": [
      "/home/yczhong/.conda/envs/yczhong/lib/python3.6/site-packages/dgl/data/utils.py:285: UserWarning: Property dataset.graph will be deprecated, please use dataset[0] instead.\n",
      "  warnings.warn('Property {} will be deprecated, please use {} instead.'.format(old, new))\n"
     ]
    },
    {
     "data": {
      "text/plain": [
       "<networkx.classes.digraph.DiGraph at 0x7fe02c54e1d0>"
      ]
     },
     "execution_count": 8,
     "metadata": {},
     "output_type": "execute_result"
    }
   ],
   "source": [
    "dataset.graph"
   ]
  },
  {
   "cell_type": "code",
   "execution_count": 9,
   "id": "681653af-f3c8-4c4e-91aa-ac0b80be8f50",
   "metadata": {},
   "outputs": [
    {
     "data": {
      "text/plain": [
       "1"
      ]
     },
     "execution_count": 9,
     "metadata": {},
     "output_type": "execute_result"
    }
   ],
   "source": [
    "len(dataset)"
   ]
  },
  {
   "cell_type": "code",
   "execution_count": 10,
   "id": "4acb0ec2-b41d-4467-aa5a-424e07b62cb6",
   "metadata": {},
   "outputs": [],
   "source": [
    "g = dataset[0]"
   ]
  },
  {
   "cell_type": "code",
   "execution_count": 11,
   "id": "a9c62224-3ee4-48f2-903c-6918da7d996a",
   "metadata": {},
   "outputs": [
    {
     "data": {
      "text/plain": [
       "Graph(num_nodes=2708, num_edges=10556,\n",
       "      ndata_schemes={'feat': Scheme(shape=(1433,), dtype=torch.float32), 'label': Scheme(shape=(), dtype=torch.int64), 'test_mask': Scheme(shape=(), dtype=torch.bool), 'train_mask': Scheme(shape=(), dtype=torch.bool), 'val_mask': Scheme(shape=(), dtype=torch.bool)}\n",
       "      edata_schemes={})"
      ]
     },
     "execution_count": 11,
     "metadata": {},
     "output_type": "execute_result"
    }
   ],
   "source": [
    "g"
   ]
  },
  {
   "cell_type": "code",
   "execution_count": 12,
   "id": "5ac291f8-a9de-478f-a518-19f9e232fbcc",
   "metadata": {},
   "outputs": [
    {
     "data": {
      "text/plain": [
       "{'feat': tensor([[0., 0., 0.,  ..., 0., 0., 0.],\n",
       "        [0., 0., 0.,  ..., 0., 0., 0.],\n",
       "        [0., 0., 0.,  ..., 0., 0., 0.],\n",
       "        ...,\n",
       "        [0., 0., 0.,  ..., 0., 0., 0.],\n",
       "        [0., 0., 0.,  ..., 0., 0., 0.],\n",
       "        [0., 0., 0.,  ..., 0., 0., 0.]]), 'label': tensor([3, 4, 4,  ..., 3, 3, 3]), 'test_mask': tensor([False, False, False,  ...,  True,  True,  True]), 'train_mask': tensor([ True,  True,  True,  ..., False, False, False]), 'val_mask': tensor([False, False, False,  ..., False, False, False])}"
      ]
     },
     "execution_count": 12,
     "metadata": {},
     "output_type": "execute_result"
    }
   ],
   "source": [
    "g.ndata"
   ]
  },
  {
   "cell_type": "code",
   "execution_count": 15,
   "id": "c1a15317-619d-4a09-8ff8-66e9b30cf505",
   "metadata": {},
   "outputs": [
    {
     "data": {
      "text/plain": [
       "torch.Size([2708, 1433])"
      ]
     },
     "execution_count": 15,
     "metadata": {},
     "output_type": "execute_result"
    }
   ],
   "source": [
    "g.ndata['feat'].shape"
   ]
  },
  {
   "cell_type": "code",
   "execution_count": 25,
   "id": "f09df39d-e79f-4a4a-b38b-dd32c6bf2794",
   "metadata": {},
   "outputs": [
    {
     "name": "stdout",
     "output_type": "stream",
     "text": [
      "tensor([[0.0476],\n",
      "        [0.0476],\n",
      "        [0.0476],\n",
      "        [0.0476],\n",
      "        [0.0476],\n",
      "        [0.0476],\n",
      "        [0.0476],\n",
      "        [0.0476],\n",
      "        [0.0476],\n",
      "        [0.0476],\n",
      "        [0.0476],\n",
      "        [0.0476],\n",
      "        [0.0476],\n",
      "        [0.0476],\n",
      "        [0.0476],\n",
      "        [0.0476],\n",
      "        [0.0476],\n",
      "        [0.0476],\n",
      "        [0.0476],\n",
      "        [0.0476],\n",
      "        [0.0476]])\n"
     ]
    }
   ],
   "source": [
    "features = g.ndata['feat'][3]\n",
    "print(features[features.nonzero()])"
   ]
  },
  {
   "cell_type": "code",
   "execution_count": 26,
   "id": "d9bf27ba-e510-46a5-8b57-e3c01c2eaec9",
   "metadata": {},
   "outputs": [
    {
     "data": {
      "text/plain": [
       "{}"
      ]
     },
     "execution_count": 26,
     "metadata": {},
     "output_type": "execute_result"
    }
   ],
   "source": [
    "g.edata"
   ]
  },
  {
   "cell_type": "code",
   "execution_count": 27,
   "id": "bcedebfa-91ed-478d-a3e8-9501bda1f6eb",
   "metadata": {},
   "outputs": [],
   "source": [
    "from dgl.nn import GraphConv"
   ]
  },
  {
   "cell_type": "code",
   "execution_count": 29,
   "id": "9016057c-9c71-4a1a-b761-ef14171b7d14",
   "metadata": {},
   "outputs": [],
   "source": [
    "import torch\n",
    "import torch.nn as nn\n",
    "import torch.nn.functional as F"
   ]
  },
  {
   "cell_type": "code",
   "execution_count": 30,
   "id": "2ee906de-3cb4-44ea-8412-8b3427dd17af",
   "metadata": {},
   "outputs": [],
   "source": [
    "class GCN(nn.Module):\n",
    "    def __init__(self, in_feats, h_feats, num_classes):\n",
    "        super(GCN, self).__init__()\n",
    "        self.conv1 = GraphConv(in_feats, h_feats)\n",
    "        self.conv2 = GraphConv(h_feats, num_classes)\n",
    "    \n",
    "    def forward(self, g, in_feat):\n",
    "        h = self.conv1(g, in_feat)\n",
    "        h = F.relu(h)\n",
    "        h = self.conv2(g, h)\n",
    "        return h"
   ]
  },
  {
   "cell_type": "code",
   "execution_count": 31,
   "id": "d5fbaed9-80fe-4367-9f2d-2fb1e590ddea",
   "metadata": {},
   "outputs": [],
   "source": [
    "model = GCN(g.ndata['feat'].shape[1], 16, dataset.num_classes)"
   ]
  },
  {
   "cell_type": "code",
   "execution_count": 35,
   "id": "6487ae9f-cf50-46a4-94ba-894bdf4bfe14",
   "metadata": {},
   "outputs": [],
   "source": [
    "def train(g, model):\n",
    "    optimizer = torch.optim.Adam(model.parameters(), lr=0.01)\n",
    "    best_val_acc = 0\n",
    "    best_test_acc = 0\n",
    "    \n",
    "    features = g.ndata['feat']\n",
    "    labels = g.ndata['label']\n",
    "    train_mask = g.ndata['train_mask']\n",
    "    val_mask = g.ndata['val_mask']\n",
    "    test_mask = g.ndata['test_mask']\n",
    "    \n",
    "    for e in range(100):\n",
    "        logits = model(g, features)\n",
    "        \n",
    "        pred = logits.argmax(1)\n",
    "        \n",
    "        loss = F.cross_entropy(logits[train_mask], labels[train_mask])\n",
    "        \n",
    "        train_acc = (pred[train_mask] == labels[train_mask]).float().mean()\n",
    "        val_acc = (pred[val_mask] == labels[val_mask]).float().mean()\n",
    "        test_acc = (pred[test_mask] == labels[test_mask]).float().mean()\n",
    "        \n",
    "        if best_val_acc < val_acc:\n",
    "            best_val_acc = val_acc\n",
    "            best_test_acc = test_acc\n",
    "        \n",
    "        optimizer.zero_grad()\n",
    "        loss.backward()\n",
    "        optimizer.step()\n",
    "        \n",
    "        if e % 5 == 0:\n",
    "            print(f\"Epoch {e}: loss: {loss} train acc: {train_acc} val_acc: {val_acc} (best: {best_val_acc}) test_acc: {test_acc} (best: {best_test_acc})\")"
   ]
  },
  {
   "cell_type": "code",
   "execution_count": 36,
   "id": "bbf18249-10b7-415d-aad1-f6b84745a282",
   "metadata": {},
   "outputs": [
    {
     "name": "stdout",
     "output_type": "stream",
     "text": [
      "Epoch 0: loss: 1.946557641029358 train acc: 0.09285714477300644 val_acc: 0.23999999463558197 (best: 0.23999999463558197) test_acc: 0.24400000274181366 (best: 0.24400000274181366)\n",
      "Epoch 5: loss: 1.8985185623168945 train acc: 0.44285714626312256 val_acc: 0.4259999990463257 (best: 0.44600000977516174) test_acc: 0.44200000166893005 (best: 0.46000000834465027)\n",
      "Epoch 10: loss: 1.823298692703247 train acc: 0.5142857432365417 val_acc: 0.5040000081062317 (best: 0.5040000081062317) test_acc: 0.503000020980835 (best: 0.503000020980835)\n",
      "Epoch 15: loss: 1.725233554840088 train acc: 0.800000011920929 val_acc: 0.6240000128746033 (best: 0.6240000128746033) test_acc: 0.6349999904632568 (best: 0.6349999904632568)\n",
      "Epoch 20: loss: 1.6064339876174927 train acc: 0.8571428656578064 val_acc: 0.6639999747276306 (best: 0.6660000085830688) test_acc: 0.6809999942779541 (best: 0.6769999861717224)\n",
      "Epoch 25: loss: 1.4691616296768188 train acc: 0.8928571343421936 val_acc: 0.6819999814033508 (best: 0.6819999814033508) test_acc: 0.6970000267028809 (best: 0.6970000267028809)\n",
      "Epoch 30: loss: 1.3182905912399292 train acc: 0.9285714030265808 val_acc: 0.7039999961853027 (best: 0.7039999961853027) test_acc: 0.722000002861023 (best: 0.722000002861023)\n",
      "Epoch 35: loss: 1.1589716672897339 train acc: 0.9428571462631226 val_acc: 0.7319999933242798 (best: 0.7319999933242798) test_acc: 0.7300000190734863 (best: 0.7269999980926514)\n",
      "Epoch 40: loss: 0.997772753238678 train acc: 0.9571428298950195 val_acc: 0.7440000176429749 (best: 0.7459999918937683) test_acc: 0.7429999709129333 (best: 0.7390000224113464)\n",
      "Epoch 45: loss: 0.8421236276626587 train acc: 0.9642857313156128 val_acc: 0.7599999904632568 (best: 0.7599999904632568) test_acc: 0.7459999918937683 (best: 0.753000020980835)\n",
      "Epoch 50: loss: 0.6982823014259338 train acc: 0.9714285731315613 val_acc: 0.7699999809265137 (best: 0.7699999809265137) test_acc: 0.7509999871253967 (best: 0.7509999871253967)\n",
      "Epoch 55: loss: 0.5705564618110657 train acc: 0.9785714149475098 val_acc: 0.7739999890327454 (best: 0.7760000228881836) test_acc: 0.7559999823570251 (best: 0.753000020980835)\n",
      "Epoch 60: loss: 0.46127089858055115 train acc: 0.9928571581840515 val_acc: 0.7760000228881836 (best: 0.7760000228881836) test_acc: 0.7599999904632568 (best: 0.753000020980835)\n",
      "Epoch 65: loss: 0.3710155189037323 train acc: 0.9928571581840515 val_acc: 0.7820000052452087 (best: 0.7820000052452087) test_acc: 0.7620000243186951 (best: 0.7620000243186951)\n",
      "Epoch 70: loss: 0.29860156774520874 train acc: 0.9928571581840515 val_acc: 0.777999997138977 (best: 0.7820000052452087) test_acc: 0.7670000195503235 (best: 0.7620000243186951)\n",
      "Epoch 75: loss: 0.24166035652160645 train acc: 1.0 val_acc: 0.7739999890327454 (best: 0.7820000052452087) test_acc: 0.7680000066757202 (best: 0.7620000243186951)\n",
      "Epoch 80: loss: 0.1973308026790619 train acc: 1.0 val_acc: 0.7739999890327454 (best: 0.7820000052452087) test_acc: 0.7730000019073486 (best: 0.7620000243186951)\n",
      "Epoch 85: loss: 0.16292212903499603 train acc: 1.0 val_acc: 0.7799999713897705 (best: 0.7820000052452087) test_acc: 0.7739999890327454 (best: 0.7620000243186951)\n",
      "Epoch 90: loss: 0.13609647750854492 train acc: 1.0 val_acc: 0.7799999713897705 (best: 0.7820000052452087) test_acc: 0.7749999761581421 (best: 0.7620000243186951)\n",
      "Epoch 95: loss: 0.11503078043460846 train acc: 1.0 val_acc: 0.7799999713897705 (best: 0.7820000052452087) test_acc: 0.7739999890327454 (best: 0.7620000243186951)\n"
     ]
    }
   ],
   "source": [
    "train(g, model)"
   ]
  },
  {
   "cell_type": "code",
   "execution_count": null,
   "id": "dae835b6-670f-4100-a04c-0fb872ef0949",
   "metadata": {},
   "outputs": [],
   "source": []
  }
 ],
 "metadata": {
  "kernelspec": {
   "display_name": "Python 3",
   "language": "python",
   "name": "python3"
  },
  "language_info": {
   "codemirror_mode": {
    "name": "ipython",
    "version": 3
   },
   "file_extension": ".py",
   "mimetype": "text/x-python",
   "name": "python",
   "nbconvert_exporter": "python",
   "pygments_lexer": "ipython3",
   "version": "3.6.13"
  }
 },
 "nbformat": 4,
 "nbformat_minor": 5
}
