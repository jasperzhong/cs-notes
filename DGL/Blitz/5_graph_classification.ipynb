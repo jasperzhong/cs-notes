{
 "cells": [
  {
   "cell_type": "markdown",
   "id": "5db0887e-2e8a-451c-bf71-5f8e88c8d226",
   "metadata": {},
   "source": [
    "## Graph Classification \n",
    "\n",
    "In this tutorial, we have multiple graphs and each graph has a label. \n",
    "\n",
    "This is different from the previous cases where we only have one graph on which we classify nodes or predict edges. "
   ]
  },
  {
   "cell_type": "code",
   "execution_count": 1,
   "id": "5d43eaf2-b9fe-45f5-88cc-a4cb06b9e97d",
   "metadata": {},
   "outputs": [
    {
     "name": "stderr",
     "output_type": "stream",
     "text": [
      "/home/yczhong/repos/swift/torch/package/_mock_zipreader.py:17: UserWarning: Failed to initialize NumPy: No module named 'numpy.core._multiarray_umath' (Triggered internally at  ../torch/csrc/utils/tensor_numpy.cpp:67.)\n",
      "  _dtype_to_storage = {data_type(0).dtype: data_type for data_type in _storages}\n",
      "Using backend: pytorch\n"
     ]
    }
   ],
   "source": [
    "import dgl\n",
    "import torch\n",
    "import torch.nn as nn\n",
    "import torch.nn.functional as F\n"
   ]
  },
  {
   "cell_type": "code",
   "execution_count": 2,
   "id": "e6cf2a7b-24f1-4457-844a-9583ebf80efe",
   "metadata": {},
   "outputs": [],
   "source": [
    "import dgl.data\n",
    "\n",
    "# Generate a synthetic dataset with 10000 graphs, ranging from 10 to 500 nodes.\n",
    "dataset = dgl.data.GINDataset('PROTEINS', self_loop=True)"
   ]
  },
  {
   "cell_type": "code",
   "execution_count": 3,
   "id": "55436dae-3b8d-437d-b8a7-880a0652f5ba",
   "metadata": {},
   "outputs": [
    {
     "name": "stdout",
     "output_type": "stream",
     "text": [
      "Node feature dimensionality: 3\n",
      "Number of graph categories: 2\n"
     ]
    }
   ],
   "source": [
    "print('Node feature dimensionality:', dataset.dim_nfeats)\n",
    "print('Number of graph categories:', dataset.gclasses)\n"
   ]
  },
  {
   "cell_type": "code",
   "execution_count": 4,
   "id": "3639462c-34df-494e-b63f-8f8fb822d121",
   "metadata": {},
   "outputs": [
    {
     "name": "stdout",
     "output_type": "stream",
     "text": [
      "[Graph(num_nodes=42, num_edges=204,\n",
      "      ndata_schemes={'attr': Scheme(shape=(3,), dtype=torch.float32), 'label': Scheme(shape=(), dtype=torch.int64)}\n",
      "      edata_schemes={}), Graph(num_nodes=27, num_edges=119,\n",
      "      ndata_schemes={'attr': Scheme(shape=(3,), dtype=torch.float32), 'label': Scheme(shape=(), dtype=torch.int64)}\n",
      "      edata_schemes={}), Graph(num_nodes=10, num_edges=44,\n",
      "      ndata_schemes={'attr': Scheme(shape=(3,), dtype=torch.float32), 'label': Scheme(shape=(), dtype=torch.int64)}\n",
      "      edata_schemes={}), Graph(num_nodes=24, num_edges=116,\n",
      "      ndata_schemes={'attr': Scheme(shape=(3,), dtype=torch.float32), 'label': Scheme(shape=(), dtype=torch.int64)}\n",
      "      edata_schemes={}), Graph(num_nodes=11, num_edges=53,\n",
      "      ndata_schemes={'attr': Scheme(shape=(3,), dtype=torch.float32), 'label': Scheme(shape=(), dtype=torch.int64)}\n",
      "      edata_schemes={}), Graph(num_nodes=336, num_edges=1968,\n",
      "      ndata_schemes={'attr': Scheme(shape=(3,), dtype=torch.float32), 'label': Scheme(shape=(), dtype=torch.int64)}\n",
      "      edata_schemes={}), Graph(num_nodes=108, num_edges=594,\n",
      "      ndata_schemes={'attr': Scheme(shape=(3,), dtype=torch.float32), 'label': Scheme(shape=(), dtype=torch.int64)}\n",
      "      edata_schemes={}), Graph(num_nodes=154, num_edges=716,\n",
      "      ndata_schemes={'attr': Scheme(shape=(3,), dtype=torch.float32), 'label': Scheme(shape=(), dtype=torch.int64)}\n",
      "      edata_schemes={}), Graph(num_nodes=19, num_edges=85,\n",
      "      ndata_schemes={'attr': Scheme(shape=(3,), dtype=torch.float32), 'label': Scheme(shape=(), dtype=torch.int64)}\n",
      "      edata_schemes={}), Graph(num_nodes=11, num_edges=49,\n",
      "      ndata_schemes={'attr': Scheme(shape=(3,), dtype=torch.float32), 'label': Scheme(shape=(), dtype=torch.int64)}\n",
      "      edata_schemes={})]\n",
      "1113\n"
     ]
    }
   ],
   "source": [
    "print(dataset.graphs[:10])\n",
    "print(len(dataset.graphs))"
   ]
  },
  {
   "cell_type": "code",
   "execution_count": 5,
   "id": "fad85ad3-f83d-431f-a1f0-a9fb1835d41a",
   "metadata": {},
   "outputs": [
    {
     "name": "stdout",
     "output_type": "stream",
     "text": [
      "1113 43471 205559\n"
     ]
    }
   ],
   "source": [
    "print(dataset.N, dataset.n, dataset.m)"
   ]
  },
  {
   "cell_type": "code",
   "execution_count": 6,
   "id": "1711aefc-ea1c-4a6f-aa7d-5468d22bcf7b",
   "metadata": {},
   "outputs": [],
   "source": [
    "from dgl.dataloading import GraphDataLoader\n",
    "from torch.utils.data.sampler import SubsetRandomSampler\n",
    "\n",
    "num_examples = len(dataset)\n",
    "num_train = int(num_examples * 0.8)\n",
    "\n",
    "train_sampler = SubsetRandomSampler(torch.arange(num_train))\n",
    "test_sampler = SubsetRandomSampler(torch.arange(num_train, num_examples))\n",
    "\n",
    "train_dataloader = GraphDataLoader(\n",
    "    dataset, sampler=train_sampler, batch_size=5, drop_last=False)\n",
    "test_dataloader = GraphDataLoader(\n",
    "    dataset, sampler=test_sampler, batch_size=5, drop_last=False)"
   ]
  },
  {
   "cell_type": "markdown",
   "id": "72fb28c6-04dc-4cf7-a61e-138fa4e994fd",
   "metadata": {},
   "source": [
    "## A Batched Graph in DGL \n",
    "\n",
    "Note that the batched graph is also a graph.\n",
    "\n",
    "> The single bigger batched graph merges all original graphs as separately connected components, with the node and edge features concatenated. "
   ]
  },
  {
   "cell_type": "code",
   "execution_count": 7,
   "id": "f9ef340d-a811-487f-87bb-1687ddc711de",
   "metadata": {},
   "outputs": [
    {
     "name": "stdout",
     "output_type": "stream",
     "text": [
      "[Graph(num_nodes=207, num_edges=993,\n",
      "      ndata_schemes={'attr': Scheme(shape=(3,), dtype=torch.float32), 'label': Scheme(shape=(), dtype=torch.int64)}\n",
      "      edata_schemes={}), tensor([0, 0, 1, 0, 0])]\n"
     ]
    }
   ],
   "source": [
    "it = iter(train_dataloader)\n",
    "batch = next(it)\n",
    "print(batch)"
   ]
  },
  {
   "cell_type": "code",
   "execution_count": 8,
   "id": "4d4b2044-c431-43f5-bcbb-f7d3eabdeffd",
   "metadata": {},
   "outputs": [],
   "source": [
    "batched_graph, labels = batch"
   ]
  },
  {
   "cell_type": "code",
   "execution_count": 9,
   "id": "bfce6279-cae1-4eec-873b-7eefd48723ab",
   "metadata": {},
   "outputs": [
    {
     "name": "stdout",
     "output_type": "stream",
     "text": [
      "Number of nodes for each graph element in the batch: tensor([31, 59, 29, 30, 58])\n",
      "Number of edges for each graph element in the batch: tensor([145, 299, 119, 140, 290])\n"
     ]
    }
   ],
   "source": [
    "print('Number of nodes for each graph element in the batch:', batched_graph.batch_num_nodes())\n",
    "print('Number of edges for each graph element in the batch:', batched_graph.batch_num_edges())\n"
   ]
  },
  {
   "cell_type": "code",
   "execution_count": 10,
   "id": "4b45dde2-cf90-43d6-b213-f4bd6468bf7c",
   "metadata": {},
   "outputs": [
    {
     "data": {
      "text/plain": [
       "dgl.heterograph.DGLHeteroGraph"
      ]
     },
     "execution_count": 10,
     "metadata": {},
     "output_type": "execute_result"
    }
   ],
   "source": [
    "type(batched_graph)"
   ]
  },
  {
   "cell_type": "code",
   "execution_count": 11,
   "id": "e2be3d59-2a3b-4eec-b95b-fd61a566bce0",
   "metadata": {},
   "outputs": [
    {
     "data": {
      "text/plain": [
       "207"
      ]
     },
     "execution_count": 11,
     "metadata": {},
     "output_type": "execute_result"
    }
   ],
   "source": [
    "batched_graph.num_nodes()"
   ]
  },
  {
   "cell_type": "code",
   "execution_count": 12,
   "id": "2ed7f7b6-bf55-4317-86ca-9ed072c16e05",
   "metadata": {},
   "outputs": [
    {
     "data": {
      "text/plain": [
       "993"
      ]
     },
     "execution_count": 12,
     "metadata": {},
     "output_type": "execute_result"
    }
   ],
   "source": [
    "batched_graph.num_edges()"
   ]
  },
  {
   "cell_type": "code",
   "execution_count": 13,
   "id": "2ba61aea-0590-4a07-8513-c1a8a55c3646",
   "metadata": {},
   "outputs": [
    {
     "data": {
      "text/plain": [
       "Graph(num_nodes=207, num_edges=993,\n",
       "      ndata_schemes={'attr': Scheme(shape=(3,), dtype=torch.float32), 'label': Scheme(shape=(), dtype=torch.int64)}\n",
       "      edata_schemes={})"
      ]
     },
     "execution_count": 13,
     "metadata": {},
     "output_type": "execute_result"
    }
   ],
   "source": [
    "batched_graph.to('cuda')"
   ]
  },
  {
   "cell_type": "code",
   "execution_count": 15,
   "id": "89b31578-c5cf-4e9b-b458-f8279d1a9627",
   "metadata": {},
   "outputs": [],
   "source": [
    "from dgl.nn import GraphConv\n",
    "\n",
    "class GCN(nn.Module):\n",
    "    def __init__(self, in_feats, h_feats, num_classes):\n",
    "        super(GCN, self).__init__()\n",
    "        self.conv1 = GraphConv(in_feats, h_feats)\n",
    "        self.conv2 = GraphConv(h_feats, num_classes)\n",
    "    \n",
    "    def forward(self, g, in_feats):\n",
    "        h = self.conv1(g, in_feats)\n",
    "        h = F.relu(h)\n",
    "        h = self.conv2(g, h)\n",
    "        g.ndata['h'] = h\n",
    "        # readout functions\n",
    "        return dgl.mean_nodes(g, 'h')"
   ]
  },
  {
   "cell_type": "markdown",
   "id": "9a1505fb-4c42-41a1-909f-fb0dee8f7f3f",
   "metadata": {},
   "source": [
    "## Use CPU  "
   ]
  },
  {
   "cell_type": "code",
   "execution_count": 22,
   "id": "fa4814f5-85e9-42c0-9271-edf8af7f8083",
   "metadata": {},
   "outputs": [],
   "source": [
    "import time "
   ]
  },
  {
   "cell_type": "code",
   "execution_count": 38,
   "id": "35ea0824-29a2-48c0-8f53-53498f4263b3",
   "metadata": {},
   "outputs": [],
   "source": [
    "model = GCN(dataset.dim_nfeats, 16, dataset.gclasses)"
   ]
  },
  {
   "cell_type": "code",
   "execution_count": 39,
   "id": "af28cd46-be2b-4f4f-9d65-3a475db83e82",
   "metadata": {},
   "outputs": [],
   "source": [
    "optimizer = torch.optim.Adam(model.parameters(), lr=0.01)"
   ]
  },
  {
   "cell_type": "code",
   "execution_count": 40,
   "id": "f2dce5e0-236a-4e5c-8457-e262a98f8d61",
   "metadata": {},
   "outputs": [
    {
     "name": "stdout",
     "output_type": "stream",
     "text": [
      "In epoch 0, avg loss: 0.5712791522232334, time: 3.6506245136260986\n",
      "In epoch 1, avg loss: 0.5572090971838223, time: 3.6523826122283936\n",
      "In epoch 2, avg loss: 0.5570591521564494, time: 3.1778838634490967\n",
      "In epoch 3, avg loss: 0.5502027241366633, time: 3.182821273803711\n",
      "In epoch 4, avg loss: 0.5513400771142392, time: 3.1739282608032227\n",
      "In epoch 5, avg loss: 0.5550210161992674, time: 3.1523001194000244\n",
      "In epoch 6, avg loss: 0.5476839827854981, time: 3.1757209300994873\n",
      "In epoch 7, avg loss: 0.5400520978348978, time: 3.1840100288391113\n",
      "In epoch 8, avg loss: 0.5380910696943154, time: 3.239217519760132\n",
      "In epoch 9, avg loss: 0.5349907669960783, time: 3.2607035636901855\n",
      "In epoch 10, avg loss: 0.537876540104325, time: 3.1945688724517822\n",
      "In epoch 11, avg loss: 0.5291643884409679, time: 3.244192361831665\n",
      "In epoch 12, avg loss: 0.5311357128235061, time: 3.20363450050354\n",
      "In epoch 13, avg loss: 0.5289210235134939, time: 3.2367265224456787\n",
      "In epoch 14, avg loss: 0.5294047581094704, time: 3.147623300552368\n",
      "In epoch 15, avg loss: 0.5324507851279183, time: 3.275470733642578\n",
      "In epoch 16, avg loss: 0.5268219442347463, time: 3.2048683166503906\n",
      "In epoch 17, avg loss: 0.5253331378688303, time: 3.143435478210449\n",
      "In epoch 18, avg loss: 0.5253601308619038, time: 3.2161853313446045\n",
      "In epoch 19, avg loss: 0.5255012769210204, time: 3.1604819297790527\n",
      "total time: 64.87678003311157\n"
     ]
    }
   ],
   "source": [
    "total_time = 0\n",
    "for e in range(20):\n",
    "    loss_sum = 0\n",
    "    cnt = 0\n",
    "    start = time.time()\n",
    "    for batched_graph, labels in train_dataloader:\n",
    "        pred = model(batched_graph, batched_graph.ndata['attr'].float())\n",
    "        loss = F.cross_entropy(pred, labels)\n",
    "        optimizer.zero_grad()\n",
    "        loss.backward()\n",
    "        optimizer.step()\n",
    "        loss_sum += loss.item()\n",
    "        cnt += 1\n",
    "    end = time.time()\n",
    "    total_time += end - start\n",
    "    print('In epoch {}, avg loss: {}, time: {}'.format(e, loss_sum / cnt, end - start))\n",
    "print(\"total time: {}\".format(total_time))"
   ]
  },
  {
   "cell_type": "code",
   "execution_count": 42,
   "id": "437d8f92-9302-4bbf-8651-354f7ce0e302",
   "metadata": {},
   "outputs": [
    {
     "name": "stdout",
     "output_type": "stream",
     "text": [
      "Test accuracy: 0.13901345291479822\n"
     ]
    }
   ],
   "source": [
    "num_correct = 0\n",
    "num_tests = 0\n",
    "for batched_graph, labels in test_dataloader:\n",
    "    pred = model(batched_graph, batched_graph.ndata['attr'].float())\n",
    "    num_correct += (pred.argmax(1) == labels).sum().item()\n",
    "    num_tests += len(labels)\n",
    "\n",
    "print('Test accuracy:', num_correct / num_tests)"
   ]
  },
  {
   "cell_type": "markdown",
   "id": "b8c157c7-d60f-4ac2-9b36-ae135329fcc3",
   "metadata": {},
   "source": [
    "## Use GPU"
   ]
  },
  {
   "cell_type": "code",
   "execution_count": 43,
   "id": "1e696b23-8d70-4bd3-9db7-ee81f1679333",
   "metadata": {},
   "outputs": [
    {
     "data": {
      "text/plain": [
       "GCN(\n",
       "  (conv1): GraphConv(in=3, out=16, normalization=both, activation=None)\n",
       "  (conv2): GraphConv(in=16, out=2, normalization=both, activation=None)\n",
       ")"
      ]
     },
     "execution_count": 43,
     "metadata": {},
     "output_type": "execute_result"
    }
   ],
   "source": [
    "model = GCN(dataset.dim_nfeats, 16, dataset.gclasses)\n",
    "model.to('cuda')"
   ]
  },
  {
   "cell_type": "code",
   "execution_count": 44,
   "id": "07d40db5-21c4-4c33-80f5-863455e701fb",
   "metadata": {},
   "outputs": [],
   "source": [
    "optimizer = torch.optim.Adam(model.parameters(), lr=0.01)"
   ]
  },
  {
   "cell_type": "code",
   "execution_count": 45,
   "id": "da50e1ba-141a-4134-a2a4-d69ca27c2017",
   "metadata": {},
   "outputs": [
    {
     "name": "stdout",
     "output_type": "stream",
     "text": [
      "In epoch 0, avg loss: 0.5778853478056661, time: 5.4741246700286865\n",
      "In epoch 1, avg loss: 0.5752584276239524, time: 5.692477226257324\n",
      "In epoch 2, avg loss: 0.5611262393466542, time: 5.706172466278076\n",
      "In epoch 3, avg loss: 0.5546920242604245, time: 5.2403364181518555\n",
      "In epoch 4, avg loss: 0.5554142447837284, time: 5.119494676589966\n",
      "In epoch 5, avg loss: 0.5510280751780178, time: 4.993757963180542\n",
      "In epoch 6, avg loss: 0.5516773439692647, time: 4.952453851699829\n",
      "In epoch 7, avg loss: 0.5455471010188039, time: 4.946757793426514\n",
      "In epoch 8, avg loss: 0.5464826703406451, time: 4.957819938659668\n",
      "In epoch 9, avg loss: 0.5492165591777041, time: 4.9912919998168945\n",
      "In epoch 10, avg loss: 0.5424639292982187, time: 4.966830253601074\n",
      "In epoch 11, avg loss: 0.5435060687949148, time: 4.977870464324951\n",
      "In epoch 12, avg loss: 0.5363271608948708, time: 4.969276189804077\n",
      "In epoch 13, avg loss: 0.5377261888110236, time: 5.058688640594482\n",
      "In epoch 14, avg loss: 0.53321791850449, time: 5.205821990966797\n",
      "In epoch 15, avg loss: 0.5319005261813656, time: 5.244883298873901\n",
      "In epoch 16, avg loss: 0.5319051951839683, time: 5.215569972991943\n",
      "In epoch 17, avg loss: 0.5269644588566897, time: 5.204627275466919\n",
      "In epoch 18, avg loss: 0.5302375845527381, time: 5.170754432678223\n",
      "In epoch 19, avg loss: 0.52743227679408, time: 4.98059868812561\n",
      "total time: 103.06960821151733\n"
     ]
    }
   ],
   "source": [
    "total_time = 0\n",
    "for e in range(20):\n",
    "    loss_sum = 0\n",
    "    cnt = 0\n",
    "    start = time.time()\n",
    "    for batched_graph, labels in train_dataloader:\n",
    "        batched_graph = batched_graph.to('cuda')\n",
    "        labels = labels.to('cuda')\n",
    "        pred = model(batched_graph, batched_graph.ndata['attr'].float())\n",
    "        loss = F.cross_entropy(pred, labels)\n",
    "        optimizer.zero_grad()\n",
    "        loss.backward()\n",
    "        optimizer.step()\n",
    "        loss_sum += loss.item()\n",
    "        cnt += 1\n",
    "    end = time.time()\n",
    "    total_time += end - start\n",
    "    print('In epoch {}, avg loss: {}, time: {}'.format(e, loss_sum / cnt, end - start))\n",
    "print(\"total time: {}\".format(total_time))"
   ]
  },
  {
   "cell_type": "code",
   "execution_count": 46,
   "id": "e9e3154a-5e42-48ea-8844-ddd3869fd601",
   "metadata": {},
   "outputs": [
    {
     "name": "stdout",
     "output_type": "stream",
     "text": [
      "Test accuracy: 0.29596412556053814\n"
     ]
    }
   ],
   "source": [
    "num_correct = 0\n",
    "num_tests = 0\n",
    "for batched_graph, labels in test_dataloader:\n",
    "    batched_graph = batched_graph.to('cuda')\n",
    "    labels = labels.to('cuda')\n",
    "    pred = model(batched_graph, batched_graph.ndata['attr'].float())\n",
    "    num_correct += (pred.argmax(1) == labels).sum().item()\n",
    "    num_tests += len(labels)\n",
    "\n",
    "print('Test accuracy:', num_correct / num_tests)"
   ]
  },
  {
   "cell_type": "code",
   "execution_count": null,
   "id": "2615c516-a9e8-458a-bd9c-75c17e5de906",
   "metadata": {},
   "outputs": [],
   "source": []
  }
 ],
 "metadata": {
  "kernelspec": {
   "display_name": "Python 3",
   "language": "python",
   "name": "python3"
  },
  "language_info": {
   "codemirror_mode": {
    "name": "ipython",
    "version": 3
   },
   "file_extension": ".py",
   "mimetype": "text/x-python",
   "name": "python",
   "nbconvert_exporter": "python",
   "pygments_lexer": "ipython3",
   "version": "3.6.13"
  }
 },
 "nbformat": 4,
 "nbformat_minor": 5
}
