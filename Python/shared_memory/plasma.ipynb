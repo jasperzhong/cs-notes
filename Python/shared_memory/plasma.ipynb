{
 "cells": [
  {
   "cell_type": "code",
   "execution_count": 1,
   "id": "4c1bb107-6184-4319-a2c3-e58e9eb05a29",
   "metadata": {},
   "outputs": [],
   "source": [
    "import pyarrow.plasma as plasma"
   ]
  },
  {
   "cell_type": "markdown",
   "id": "ac147a80-6183-4fa3-b3fb-223bd204e7d9",
   "metadata": {},
   "source": [
    "## Before we start\n",
    "\n",
    "start the Plasma store by \n",
    "\n",
    "```sh\n",
    "plasma_store -m 1000000000 -s /tmp/plasma\n",
    "```\n",
    "\n",
    "which allows the Plasma store to use up 1GB of memory, and sets the socket to `/tmp/plasma`. "
   ]
  },
  {
   "cell_type": "code",
   "execution_count": 2,
   "id": "8264232b-abd7-4979-902e-7a00a01ba5c3",
   "metadata": {},
   "outputs": [],
   "source": [
    "client = plasma.connect(\"/tmp/plasma\")"
   ]
  },
  {
   "cell_type": "markdown",
   "id": "c83cf325-e0e6-4dce-bfbd-087b16c05eb9",
   "metadata": {},
   "source": [
    "## Play with Numpy"
   ]
  },
  {
   "cell_type": "code",
   "execution_count": 3,
   "id": "8dd42063-2d36-4777-b723-3bf9fb8fd089",
   "metadata": {},
   "outputs": [],
   "source": [
    "import numpy as np"
   ]
  },
  {
   "cell_type": "code",
   "execution_count": 4,
   "id": "76e90319-bfe9-418c-9c97-a346a75107c8",
   "metadata": {},
   "outputs": [],
   "source": [
    "data = np.random.randn(32, 512, 1024)"
   ]
  },
  {
   "cell_type": "code",
   "execution_count": 5,
   "id": "29f7fffd-2880-4a03-b20a-c07ea6d8f51d",
   "metadata": {},
   "outputs": [
    {
     "data": {
      "text/plain": [
       "134217728"
      ]
     },
     "execution_count": 5,
     "metadata": {},
     "output_type": "execute_result"
    }
   ],
   "source": [
    "data.nbytes"
   ]
  },
  {
   "cell_type": "code",
   "execution_count": 6,
   "id": "44ff0a53-705a-40e9-a06e-fbafdc482997",
   "metadata": {},
   "outputs": [],
   "source": [
    "import pyarrow as pa"
   ]
  },
  {
   "cell_type": "code",
   "execution_count": 7,
   "id": "83900af1-9bce-472a-9ed8-8e55cce1c4e0",
   "metadata": {},
   "outputs": [],
   "source": [
    "tensor = pa.Tensor.from_numpy(data)"
   ]
  },
  {
   "cell_type": "code",
   "execution_count": 8,
   "id": "3ad82a52-6d5d-4aa6-9ed0-27822693c49a",
   "metadata": {},
   "outputs": [],
   "source": [
    "object_id = plasma.ObjectID(np.random.bytes(20))"
   ]
  },
  {
   "cell_type": "code",
   "execution_count": 9,
   "id": "e266721b-ad10-4df0-a4c3-dc152415f109",
   "metadata": {},
   "outputs": [],
   "source": [
    "data_size = pa.ipc.get_tensor_size(tensor)"
   ]
  },
  {
   "cell_type": "code",
   "execution_count": 10,
   "id": "ee0ad9b4-737d-4843-91e1-3333a168afb7",
   "metadata": {},
   "outputs": [
    {
     "data": {
      "text/plain": [
       "134217984"
      ]
     },
     "execution_count": 10,
     "metadata": {},
     "output_type": "execute_result"
    }
   ],
   "source": [
    "data_size"
   ]
  },
  {
   "cell_type": "code",
   "execution_count": 11,
   "id": "03a471e1-6391-49b9-961f-b64c348a255e",
   "metadata": {},
   "outputs": [],
   "source": [
    "buf = client.create(object_id, data_size)"
   ]
  },
  {
   "cell_type": "code",
   "execution_count": 12,
   "id": "06f65421-6300-4431-91e4-15062c670f3d",
   "metadata": {},
   "outputs": [],
   "source": [
    "stream = pa.FixedSizeBufferWriter(buf)"
   ]
  },
  {
   "cell_type": "code",
   "execution_count": 13,
   "id": "36ddf334-e5b4-4085-ad9e-af999eaef410",
   "metadata": {},
   "outputs": [
    {
     "data": {
      "text/plain": [
       "134217984"
      ]
     },
     "execution_count": 13,
     "metadata": {},
     "output_type": "execute_result"
    }
   ],
   "source": [
    "pa.ipc.write_tensor(tensor, stream)"
   ]
  },
  {
   "cell_type": "code",
   "execution_count": 14,
   "id": "fd589799-b4c0-4ac5-b803-1694dd3d3f99",
   "metadata": {},
   "outputs": [],
   "source": [
    "client.seal(object_id)"
   ]
  },
  {
   "cell_type": "code",
   "execution_count": 17,
   "id": "25d9e4b0-311d-4b42-b5b1-39a12aa4760c",
   "metadata": {},
   "outputs": [],
   "source": [
    "[buf2] = client.get_buffers([object_id])"
   ]
  },
  {
   "cell_type": "code",
   "execution_count": 18,
   "id": "024a8d04-00ba-4053-905d-7845b22eb810",
   "metadata": {},
   "outputs": [],
   "source": [
    "reader = pa.BufferReader(buf2)"
   ]
  },
  {
   "cell_type": "code",
   "execution_count": 19,
   "id": "a2450803-ae27-49aa-a031-f01ec9e387cb",
   "metadata": {},
   "outputs": [],
   "source": [
    "tensor2 = pa.ipc.read_tensor(reader)"
   ]
  },
  {
   "cell_type": "code",
   "execution_count": 20,
   "id": "52399877-ba0c-46c5-ab4c-d306edd794c9",
   "metadata": {},
   "outputs": [],
   "source": [
    "data2 = tensor2.to_numpy()"
   ]
  },
  {
   "cell_type": "code",
   "execution_count": 24,
   "id": "7371b786-ff48-448e-9b60-3ef49dfbd958",
   "metadata": {},
   "outputs": [
    {
     "data": {
      "text/plain": [
       "134217728"
      ]
     },
     "execution_count": 24,
     "metadata": {},
     "output_type": "execute_result"
    }
   ],
   "source": [
    "data2.nbytes"
   ]
  },
  {
   "cell_type": "code",
   "execution_count": 22,
   "id": "f819f85e-d887-41aa-b391-d2d14915da3e",
   "metadata": {},
   "outputs": [
    {
     "data": {
      "text/plain": [
       "array([-1.53396885,  0.61753747,  0.69881721, -0.11615524,  1.51866401,\n",
       "       -0.04793302, -1.92279344, -0.75430095,  0.78556291, -0.984257  ])"
      ]
     },
     "execution_count": 22,
     "metadata": {},
     "output_type": "execute_result"
    }
   ],
   "source": [
    "data[0, 0, :10]"
   ]
  },
  {
   "cell_type": "code",
   "execution_count": 23,
   "id": "662ce653-b115-4923-b329-77d880a7dd11",
   "metadata": {},
   "outputs": [
    {
     "data": {
      "text/plain": [
       "array([-1.53396885,  0.61753747,  0.69881721, -0.11615524,  1.51866401,\n",
       "       -0.04793302, -1.92279344, -0.75430095,  0.78556291, -0.984257  ])"
      ]
     },
     "execution_count": 23,
     "metadata": {},
     "output_type": "execute_result"
    }
   ],
   "source": [
    "data2[0, 0, :10]"
   ]
  },
  {
   "cell_type": "markdown",
   "id": "d5068123-c796-487b-8da0-bda5ee9f00fa",
   "metadata": {},
   "source": [
    "## Test OOM\n",
    "\n",
    "Only allow the Plasma store to use up to 10000 bytes this time. See how the Plasma handles the out-of-memory error.\n",
    "```sh\n",
    "plasma_store -m 10000 -s /tmp/plasma\n",
    "```"
   ]
  },
  {
   "cell_type": "code",
   "execution_count": 66,
   "id": "be21abd2-07fb-4cbe-b2a6-423dbe5ebb86",
   "metadata": {},
   "outputs": [],
   "source": [
    "client = plasma.connect(\"/tmp/plasma\")"
   ]
  },
  {
   "cell_type": "code",
   "execution_count": 67,
   "id": "d82b3fa5-eca2-4663-9b1c-ff65e61c8522",
   "metadata": {},
   "outputs": [],
   "source": [
    "capacity = client.store_capacity()"
   ]
  },
  {
   "cell_type": "code",
   "execution_count": 68,
   "id": "c222706a-0ce7-498d-8992-54c4aef1099c",
   "metadata": {},
   "outputs": [
    {
     "data": {
      "text/plain": [
       "10000"
      ]
     },
     "execution_count": 68,
     "metadata": {},
     "output_type": "execute_result"
    }
   ],
   "source": [
    "capacity"
   ]
  },
  {
   "cell_type": "code",
   "execution_count": 69,
   "id": "64d58e43-bfaf-485c-bd30-5a245c349389",
   "metadata": {},
   "outputs": [],
   "source": [
    "object_id = plasma.ObjectID(np.random.bytes(20))"
   ]
  },
  {
   "cell_type": "code",
   "execution_count": 70,
   "id": "28b452f4-8374-4899-ac11-cfd6c575b654",
   "metadata": {},
   "outputs": [
    {
     "ename": "PlasmaStoreFull",
     "evalue": "object does not fit in the plasma store",
     "output_type": "error",
     "traceback": [
      "\u001b[0;31m---------------------------------------------------------------------------\u001b[0m",
      "\u001b[0;31mPlasmaStoreFull\u001b[0m                           Traceback (most recent call last)",
      "\u001b[0;32m<ipython-input-70-1038108291ba>\u001b[0m in \u001b[0;36m<module>\u001b[0;34m\u001b[0m\n\u001b[0;32m----> 1\u001b[0;31m \u001b[0mbuf\u001b[0m \u001b[0;34m=\u001b[0m \u001b[0mclient\u001b[0m\u001b[0;34m.\u001b[0m\u001b[0mcreate\u001b[0m\u001b[0;34m(\u001b[0m\u001b[0mobject_id\u001b[0m\u001b[0;34m,\u001b[0m \u001b[0mcapacity\u001b[0m \u001b[0;34m+\u001b[0m \u001b[0;36m1\u001b[0m\u001b[0;34m)\u001b[0m\u001b[0;34m\u001b[0m\u001b[0;34m\u001b[0m\u001b[0m\n\u001b[0m",
      "\u001b[0;32m~/anaconda3/envs/dev/lib/python3.6/site-packages/pyarrow/_plasma.pyx\u001b[0m in \u001b[0;36mpyarrow._plasma.PlasmaClient.create\u001b[0;34m()\u001b[0m\n",
      "\u001b[0;32m~/anaconda3/envs/dev/lib/python3.6/site-packages/pyarrow/_plasma.pyx\u001b[0m in \u001b[0;36mpyarrow._plasma.plasma_check_status\u001b[0;34m()\u001b[0m\n",
      "\u001b[0;31mPlasmaStoreFull\u001b[0m: object does not fit in the plasma store"
     ]
    }
   ],
   "source": [
    "buf = client.create(object_id, capacity + 1)"
   ]
  },
  {
   "cell_type": "code",
   "execution_count": 71,
   "id": "a40e2cd0-feb9-4e62-a80c-19cafb0b1d46",
   "metadata": {},
   "outputs": [],
   "source": [
    "buf = client.create(object_id, capacity)"
   ]
  },
  {
   "cell_type": "code",
   "execution_count": 72,
   "id": "d7e3980d-0be9-4f80-9340-d5c31744f34a",
   "metadata": {},
   "outputs": [],
   "source": [
    "object_id2 = plasma.ObjectID(np.random.bytes(20))"
   ]
  },
  {
   "cell_type": "code",
   "execution_count": 73,
   "id": "f2ae9b1b-2b7a-4af4-87d5-f4bb800dccd2",
   "metadata": {},
   "outputs": [
    {
     "ename": "PlasmaStoreFull",
     "evalue": "object does not fit in the plasma store",
     "output_type": "error",
     "traceback": [
      "\u001b[0;31m---------------------------------------------------------------------------\u001b[0m",
      "\u001b[0;31mPlasmaStoreFull\u001b[0m                           Traceback (most recent call last)",
      "\u001b[0;32m<ipython-input-73-2a3ce547b96a>\u001b[0m in \u001b[0;36m<module>\u001b[0;34m\u001b[0m\n\u001b[0;32m----> 1\u001b[0;31m \u001b[0mbuf\u001b[0m \u001b[0;34m=\u001b[0m \u001b[0mclient\u001b[0m\u001b[0;34m.\u001b[0m\u001b[0mcreate\u001b[0m\u001b[0;34m(\u001b[0m\u001b[0mobject_id2\u001b[0m\u001b[0;34m,\u001b[0m \u001b[0;36m1\u001b[0m\u001b[0;34m)\u001b[0m\u001b[0;34m\u001b[0m\u001b[0;34m\u001b[0m\u001b[0m\n\u001b[0m",
      "\u001b[0;32m~/anaconda3/envs/dev/lib/python3.6/site-packages/pyarrow/_plasma.pyx\u001b[0m in \u001b[0;36mpyarrow._plasma.PlasmaClient.create\u001b[0;34m()\u001b[0m\n",
      "\u001b[0;32m~/anaconda3/envs/dev/lib/python3.6/site-packages/pyarrow/_plasma.pyx\u001b[0m in \u001b[0;36mpyarrow._plasma.plasma_check_status\u001b[0;34m()\u001b[0m\n",
      "\u001b[0;31mPlasmaStoreFull\u001b[0m: object does not fit in the plasma store"
     ]
    }
   ],
   "source": [
    "buf = client.create(object_id2, 1)"
   ]
  },
  {
   "cell_type": "code",
   "execution_count": null,
   "id": "896b2e4a-630d-4069-9f13-a918e9a934d5",
   "metadata": {},
   "outputs": [],
   "source": []
  }
 ],
 "metadata": {
  "kernelspec": {
   "display_name": "Python 3",
   "language": "python",
   "name": "python3"
  },
  "language_info": {
   "codemirror_mode": {
    "name": "ipython",
    "version": 3
   },
   "file_extension": ".py",
   "mimetype": "text/x-python",
   "name": "python",
   "nbconvert_exporter": "python",
   "pygments_lexer": "ipython3",
   "version": "3.6.13"
  }
 },
 "nbformat": 4,
 "nbformat_minor": 5
}
